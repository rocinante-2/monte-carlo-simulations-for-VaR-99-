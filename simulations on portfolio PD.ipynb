{
 "cells": [
  {
   "cell_type": "code",
   "execution_count": 1,
   "id": "a909c53b-f14d-44c3-98ec-f6fd543b7523",
   "metadata": {},
   "outputs": [],
   "source": [
    "import pandas as pd , numpy as np "
   ]
  },
  {
   "cell_type": "code",
   "execution_count": 2,
   "id": "69115517-5505-4d04-8066-6ea73ecedab4",
   "metadata": {},
   "outputs": [],
   "source": [
    "pd.set_option('display.max_columns',100)"
   ]
  },
  {
   "cell_type": "code",
   "execution_count": 3,
   "id": "a232c001-ef04-412c-ae5c-f2f60af665ed",
   "metadata": {},
   "outputs": [],
   "source": [
    "#1 read data\n",
    "\n",
    "df = pd.read_csv('dummy_credit_risk_data.csv')"
   ]
  },
  {
   "cell_type": "code",
   "execution_count": 4,
   "id": "51797d4a-4f3a-4977-add3-c29cec014dc2",
   "metadata": {},
   "outputs": [
    {
     "data": {
      "text/html": [
       "<div>\n",
       "<style scoped>\n",
       "    .dataframe tbody tr th:only-of-type {\n",
       "        vertical-align: middle;\n",
       "    }\n",
       "\n",
       "    .dataframe tbody tr th {\n",
       "        vertical-align: top;\n",
       "    }\n",
       "\n",
       "    .dataframe thead th {\n",
       "        text-align: right;\n",
       "    }\n",
       "</style>\n",
       "<table border=\"1\" class=\"dataframe\">\n",
       "  <thead>\n",
       "    <tr style=\"text-align: right;\">\n",
       "      <th></th>\n",
       "      <th>sourcing_month</th>\n",
       "      <th>total_exposure</th>\n",
       "      <th>defaults</th>\n",
       "      <th>pd</th>\n",
       "    </tr>\n",
       "  </thead>\n",
       "  <tbody>\n",
       "    <tr>\n",
       "      <th>0</th>\n",
       "      <td>2024-01-01</td>\n",
       "      <td>10000</td>\n",
       "      <td>667</td>\n",
       "      <td>0.066700</td>\n",
       "    </tr>\n",
       "    <tr>\n",
       "      <th>1</th>\n",
       "      <td>2024-02-01</td>\n",
       "      <td>15000</td>\n",
       "      <td>976</td>\n",
       "      <td>0.065067</td>\n",
       "    </tr>\n",
       "    <tr>\n",
       "      <th>2</th>\n",
       "      <td>2024-03-01</td>\n",
       "      <td>20000</td>\n",
       "      <td>1312</td>\n",
       "      <td>0.065600</td>\n",
       "    </tr>\n",
       "    <tr>\n",
       "      <th>3</th>\n",
       "      <td>2024-04-01</td>\n",
       "      <td>20000</td>\n",
       "      <td>1255</td>\n",
       "      <td>0.062750</td>\n",
       "    </tr>\n",
       "    <tr>\n",
       "      <th>4</th>\n",
       "      <td>2024-05-01</td>\n",
       "      <td>20000</td>\n",
       "      <td>1260</td>\n",
       "      <td>0.063000</td>\n",
       "    </tr>\n",
       "  </tbody>\n",
       "</table>\n",
       "</div>"
      ],
      "text/plain": [
       "  sourcing_month  total_exposure  defaults        pd\n",
       "0     2024-01-01           10000       667  0.066700\n",
       "1     2024-02-01           15000       976  0.065067\n",
       "2     2024-03-01           20000      1312  0.065600\n",
       "3     2024-04-01           20000      1255  0.062750\n",
       "4     2024-05-01           20000      1260  0.063000"
      ]
     },
     "execution_count": 4,
     "metadata": {},
     "output_type": "execute_result"
    }
   ],
   "source": [
    "#2 making monthly pd data\n",
    "\n",
    "monthly = (df.groupby(\"sourcing_month\").agg(total_exposure=(\"ID\", \"count\"),defaults=(\"dpd_90_ever\", \"sum\")).reset_index())\n",
    "monthly[\"pd\"] = monthly[\"defaults\"] / monthly[\"total_exposure\"]\n",
    "monthly.head()"
   ]
  },
  {
   "cell_type": "code",
   "execution_count": 5,
   "id": "9c65725a-39d6-4cca-969f-ad41eb2f51a7",
   "metadata": {},
   "outputs": [],
   "source": [
    "# 3. Fit Beta distribution\n",
    "mu   = monthly[\"pd\"].mean()\n",
    "var  = monthly[\"pd\"].var()\n",
    "alpha = mu * ( (mu*(1-mu) / var) - 1 )\n",
    "beta  = (1 - mu) * ( (mu*(1-mu) / var) - 1 )\n"
   ]
  },
  {
   "cell_type": "code",
   "execution_count": 6,
   "id": "86e62984-ba9a-47b9-8de0-012556e46a06",
   "metadata": {},
   "outputs": [
    {
     "data": {
      "text/plain": [
       "(0.06439722222222222,\n",
       " 2.6282685185185157e-06,\n",
       " 1476.1724402406055,\n",
       " 21446.748600462408)"
      ]
     },
     "execution_count": 6,
     "metadata": {},
     "output_type": "execute_result"
    }
   ],
   "source": [
    "mu, var, alpha, beta"
   ]
  },
  {
   "cell_type": "code",
   "execution_count": 29,
   "id": "f0bbbdeb-20b0-4318-ab2b-3b096a0e83af",
   "metadata": {},
   "outputs": [
    {
     "name": "stdout",
     "output_type": "stream",
     "text": [
      "2024-01: 99% VaR = 170.58\n",
      "2024-02: 99% VaR = 255.91\n",
      "2024-03: 99% VaR = 341.25\n",
      "2024-04: 99% VaR = 341.07\n",
      "2024-05: 99% VaR = 341.09\n",
      "2024-06: 99% VaR = 255.75\n"
     ]
    }
   ],
   "source": [
    "#simualtion MC dynamic VaR\n",
    "\n",
    "n_sims      = 100_000\n",
    "lgd         = 0.25\n",
    "ead_vector  = monthly[\"total_exposure\"].values   # length = M months\n",
    "M           = len(ead_vector)\n",
    "\n",
    "# 1. Simulate PDs matrix shape=(n_sims, M)\n",
    "sim_pds_matrix = np.random.beta(alpha, beta, size=(n_sims, M))\n",
    "\n",
    "# 2. Tile exposures to match shape\n",
    "ead_matrix = np.tile(ead_vector, (n_sims, 1))\n",
    "\n",
    "# 3. Compute losses matrix shape=(n_sims, M)\n",
    "sim_losses_matrix = sim_pds_matrix * ead_matrix * lgd\n",
    "\n",
    "# 4. Extract risk metrics per month\n",
    "var99_per_month = np.percentile(sim_losses_matrix, 99, axis=0)\n",
    "mean_loss_per_month = sim_losses_matrix.mean(axis=0)\n",
    "\n",
    "# ensure sourcing_month is datetime\n",
    "monthly[\"sourcing_month\"] = pd.to_datetime(monthly[\"sourcing_month\"])\n",
    "\n",
    "# now m is a Timestamp, so f\"{m:%Y-%m}\" works\n",
    "for i, m in enumerate(monthly[\"sourcing_month\"]):\n",
    "    print(f\"{m:%Y-%m}: 99% VaR = {var99_per_month[i]:.2f}\")\n",
    "\n"
   ]
  },
  {
   "cell_type": "code",
   "execution_count": 36,
   "id": "8b2ef647-0ca5-4694-982e-ed8691fcafda",
   "metadata": {},
   "outputs": [
    {
     "data": {
      "text/html": [
       "<div>\n",
       "<style scoped>\n",
       "    .dataframe tbody tr th:only-of-type {\n",
       "        vertical-align: middle;\n",
       "    }\n",
       "\n",
       "    .dataframe tbody tr th {\n",
       "        vertical-align: top;\n",
       "    }\n",
       "\n",
       "    .dataframe thead th {\n",
       "        text-align: right;\n",
       "    }\n",
       "</style>\n",
       "<table border=\"1\" class=\"dataframe\">\n",
       "  <thead>\n",
       "    <tr style=\"text-align: right;\">\n",
       "      <th></th>\n",
       "      <th>sourcing_month</th>\n",
       "      <th>total_exposure</th>\n",
       "      <th>defaults</th>\n",
       "      <th>pd</th>\n",
       "    </tr>\n",
       "  </thead>\n",
       "  <tbody>\n",
       "    <tr>\n",
       "      <th>0</th>\n",
       "      <td>2024-01-01</td>\n",
       "      <td>10000</td>\n",
       "      <td>667</td>\n",
       "      <td>0.066700</td>\n",
       "    </tr>\n",
       "    <tr>\n",
       "      <th>1</th>\n",
       "      <td>2024-02-01</td>\n",
       "      <td>15000</td>\n",
       "      <td>976</td>\n",
       "      <td>0.065067</td>\n",
       "    </tr>\n",
       "    <tr>\n",
       "      <th>2</th>\n",
       "      <td>2024-03-01</td>\n",
       "      <td>20000</td>\n",
       "      <td>1312</td>\n",
       "      <td>0.065600</td>\n",
       "    </tr>\n",
       "    <tr>\n",
       "      <th>3</th>\n",
       "      <td>2024-04-01</td>\n",
       "      <td>20000</td>\n",
       "      <td>1255</td>\n",
       "      <td>0.062750</td>\n",
       "    </tr>\n",
       "    <tr>\n",
       "      <th>4</th>\n",
       "      <td>2024-05-01</td>\n",
       "      <td>20000</td>\n",
       "      <td>1260</td>\n",
       "      <td>0.063000</td>\n",
       "    </tr>\n",
       "    <tr>\n",
       "      <th>5</th>\n",
       "      <td>2024-06-01</td>\n",
       "      <td>15000</td>\n",
       "      <td>949</td>\n",
       "      <td>0.063267</td>\n",
       "    </tr>\n",
       "  </tbody>\n",
       "</table>\n",
       "</div>"
      ],
      "text/plain": [
       "  sourcing_month  total_exposure  defaults        pd\n",
       "0     2024-01-01           10000       667  0.066700\n",
       "1     2024-02-01           15000       976  0.065067\n",
       "2     2024-03-01           20000      1312  0.065600\n",
       "3     2024-04-01           20000      1255  0.062750\n",
       "4     2024-05-01           20000      1260  0.063000\n",
       "5     2024-06-01           15000       949  0.063267"
      ]
     },
     "execution_count": 36,
     "metadata": {},
     "output_type": "execute_result"
    }
   ],
   "source": [
    "monthly"
   ]
  },
  {
   "cell_type": "code",
   "execution_count": 32,
   "id": "71f4df3f-1230-4bfd-86b1-30bb9ca889fc",
   "metadata": {},
   "outputs": [
    {
     "data": {
      "text/plain": [
       "(682.08, 1023.48, 1364.4, 1364.6, 1364.48, 1023.48)"
      ]
     },
     "execution_count": 32,
     "metadata": {},
     "output_type": "execute_result"
    }
   ],
   "source": [
    "170.52/0.25, 255.87/0.25, 341.1/0.25, 341.15/0.25, 341.12/0.25, 255.87/0.25"
   ]
  },
  {
   "cell_type": "code",
   "execution_count": 33,
   "id": "7a2148a4-7a11-4b3f-bc42-d8fa7f3ee63f",
   "metadata": {},
   "outputs": [
    {
     "data": {
      "text/plain": [
       "array([170.58103106, 255.91427891, 341.24898413, 341.07403568,\n",
       "       341.08842049, 255.74792372])"
      ]
     },
     "execution_count": 33,
     "metadata": {},
     "output_type": "execute_result"
    }
   ],
   "source": [
    "var99_per_month"
   ]
  },
  {
   "cell_type": "code",
   "execution_count": 34,
   "id": "d1097500-f367-4364-88a2-1b823890720d",
   "metadata": {},
   "outputs": [
    {
     "data": {
      "text/plain": [
       "array([160.99493401, 241.50340127, 322.01067962, 322.00513239,\n",
       "       321.99419935, 241.47319533])"
      ]
     },
     "execution_count": 34,
     "metadata": {},
     "output_type": "execute_result"
    }
   ],
   "source": [
    "mean_loss_per_month"
   ]
  },
  {
   "cell_type": "code",
   "execution_count": 35,
   "id": "1abcb2dd-7c9a-45db-b2ae-ac9be6112705",
   "metadata": {},
   "outputs": [],
   "source": [
    "# difference of both gives us unexpected credit loss"
   ]
  },
  {
   "cell_type": "code",
   "execution_count": 39,
   "id": "15cfe209-7e7a-48d4-baf3-75b755218974",
   "metadata": {},
   "outputs": [
    {
     "name": "stdout",
     "output_type": "stream",
     "text": [
      "Month 1 forecast EAD = 17500\n",
      "Month 2 forecast EAD = 18125\n",
      "Month 3 forecast EAD = 18281\n",
      "3-month 99% VaR = 897.29 customer-units\n"
     ]
    }
   ],
   "source": [
    "#### forecasting 6 month PD with using IID\n",
    "\n",
    "\n",
    "from statsmodels.tsa.ar_model import AutoReg\n",
    "\n",
    "# parameters\n",
    "n_sims      = 50_000\n",
    "H           = 3                # six-month horizon\n",
    "lgd         = 0.25\n",
    "\n",
    "# historical exposures (array of length M)\n",
    "ead_hist    = monthly[\"total_exposure\"].values\n",
    "\n",
    "# 1. Fit AR(1) on exposures\n",
    "model_ead   = AutoReg(ead_hist, lags=1, old_names=False).fit()\n",
    "# 2. Forecast next H exposures\n",
    "ead_forecast = model_ead.predict(start=len(ead_hist), end=len(ead_hist)+H-1)\n",
    "\n",
    "# 3. Simulate PDs matrix (n_sims × H) from your Beta(alpha,beta)\n",
    "sim_pds_matrix = np.random.beta(alpha, beta, size=(n_sims, H))\n",
    "\n",
    "# 4. Build EAD matrix by repeating the H-vector for each sim\n",
    "ead_matrix      = np.tile(ead_forecast, (n_sims, 1))\n",
    "\n",
    "# 5. Compute monthly loss matrix and then total loss per sim\n",
    "loss_matrix     = sim_pds_matrix * ead_matrix * lgd\n",
    "total_losses    = loss_matrix.sum(axis=1)\n",
    "\n",
    "# 6. 6-month VaR at 99%\n",
    "var_99_6m       = np.percentile(total_losses, 99)\n",
    "\n",
    "# display\n",
    "for i, e in enumerate(ead_forecast):\n",
    "    print(f\"Month {i+1} forecast EAD = {e:.0f}\")\n",
    "print(f\"3-month 99% VaR = {var_99_6m:.2f} customer-units\")"
   ]
  },
  {
   "cell_type": "code",
   "execution_count": 41,
   "id": "f08e725f-163d-481e-bdeb-1d376f9469e1",
   "metadata": {},
   "outputs": [
    {
     "name": "stdout",
     "output_type": "stream",
     "text": [
      "Month 1 forecast EAD = 17500\n",
      "Month 2 forecast EAD = 18125\n",
      "Month 3 forecast EAD = 18281\n",
      "3-month 99% VaR = 854.65 customer-units\n"
     ]
    }
   ],
   "source": [
    "#### forecasting 6 month PD with using AR\n",
    "\n",
    "# 1. Fit AR(1) on historical pd\n",
    "model_pd   = AutoReg(monthly[\"pd\"].values, lags=1, old_names=False).fit()\n",
    "# 2. Forecast pd for next H months\n",
    "pd_forecast = model_pd.predict(start=len(monthly), end=len(monthly)+H-1)\n",
    "\n",
    "# 3. Build pd_matrix by repeating for each sim\n",
    "pd_matrix   = np.tile(pd_forecast, (n_sims, 1))\n",
    "\n",
    "# 4. loss_matrix = pd_matrix * ead_matrix * lgd (no Beta sampling)\n",
    "loss_matrix = pd_matrix * ead_matrix * lgd\n",
    "total_losses= loss_matrix.sum(axis=1)\n",
    "var_99_6m   = np.percentile(total_losses, 99)\n",
    "\n",
    "# display\n",
    "for i, e in enumerate(ead_forecast):\n",
    "    print(f\"Month {i+1} forecast EAD = {e:.0f}\")\n",
    "print(f\"3-month 99% VaR = {var_99_6m:.2f} customer-units\")"
   ]
  },
  {
   "cell_type": "code",
   "execution_count": 43,
   "id": "91a48b95-43e0-4ce1-8207-46247c9228bc",
   "metadata": {},
   "outputs": [
    {
     "data": {
      "text/plain": [
       "3418.6"
      ]
     },
     "execution_count": 43,
     "metadata": {},
     "output_type": "execute_result"
    }
   ],
   "source": [
    "854.65/0.25 ##overall max customer defaults at 99% percentile"
   ]
  },
  {
   "cell_type": "code",
   "execution_count": 44,
   "id": "e18e1ef6-60be-4b10-8646-4577b7a99a03",
   "metadata": {},
   "outputs": [
    {
     "data": {
      "text/plain": [
       "1139.5333333333333"
      ]
     },
     "execution_count": 44,
     "metadata": {},
     "output_type": "execute_result"
    }
   ],
   "source": [
    "3418.6/3 ## per month buffer at 99% percentile"
   ]
  },
  {
   "cell_type": "code",
   "execution_count": null,
   "id": "632ec325-ea96-444c-822d-68466ded0a5b",
   "metadata": {},
   "outputs": [],
   "source": []
  }
 ],
 "metadata": {
  "kernelspec": {
   "display_name": "Python 3 (ipykernel)",
   "language": "python",
   "name": "python3"
  },
  "language_info": {
   "codemirror_mode": {
    "name": "ipython",
    "version": 3
   },
   "file_extension": ".py",
   "mimetype": "text/x-python",
   "name": "python",
   "nbconvert_exporter": "python",
   "pygments_lexer": "ipython3",
   "version": "3.12.7"
  }
 },
 "nbformat": 4,
 "nbformat_minor": 5
}
